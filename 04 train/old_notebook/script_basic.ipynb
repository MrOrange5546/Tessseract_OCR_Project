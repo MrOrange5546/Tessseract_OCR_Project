{
  "cells": [
    {
      "cell_type": "code",
      "execution_count": 1,
      "metadata": {
        "colab": {
          "base_uri": "https://localhost:8080/"
        },
        "id": "CyD18ccL6OT-",
        "outputId": "5d9eb5ee-00fa-4c75-e86e-2e862b739522"
      },
      "outputs": [
        {
          "output_type": "stream",
          "name": "stdout",
          "text": [
            "Reading package lists... Done\n",
            "Building dependency tree... Done\n",
            "Reading state information... Done\n",
            "The following additional packages will be installed:\n",
            "  tesseract-ocr-eng tesseract-ocr-osd\n",
            "The following NEW packages will be installed:\n",
            "  tesseract-ocr tesseract-ocr-eng tesseract-ocr-osd\n",
            "0 upgraded, 3 newly installed, 0 to remove and 24 not upgraded.\n",
            "Need to get 4,816 kB of archives.\n",
            "After this operation, 15.6 MB of additional disk space will be used.\n",
            "Get:1 http://archive.ubuntu.com/ubuntu jammy/universe amd64 tesseract-ocr-eng all 1:4.00~git30-7274cfa-1.1 [1,591 kB]\n",
            "Get:2 http://archive.ubuntu.com/ubuntu jammy/universe amd64 tesseract-ocr-osd all 1:4.00~git30-7274cfa-1.1 [2,990 kB]\n",
            "Get:3 http://archive.ubuntu.com/ubuntu jammy/universe amd64 tesseract-ocr amd64 4.1.1-2.1build1 [236 kB]\n",
            "Fetched 4,816 kB in 2s (2,239 kB/s)\n",
            "debconf: unable to initialize frontend: Dialog\n",
            "debconf: (No usable dialog-like program is installed, so the dialog based frontend cannot be used. at /usr/share/perl5/Debconf/FrontEnd/Dialog.pm line 78, <> line 3.)\n",
            "debconf: falling back to frontend: Readline\n",
            "debconf: unable to initialize frontend: Readline\n",
            "debconf: (This frontend requires a controlling tty.)\n",
            "debconf: falling back to frontend: Teletype\n",
            "dpkg-preconfigure: unable to re-open stdin: \n",
            "Selecting previously unselected package tesseract-ocr-eng.\n",
            "(Reading database ... 121654 files and directories currently installed.)\n",
            "Preparing to unpack .../tesseract-ocr-eng_1%3a4.00~git30-7274cfa-1.1_all.deb ...\n",
            "Unpacking tesseract-ocr-eng (1:4.00~git30-7274cfa-1.1) ...\n",
            "Selecting previously unselected package tesseract-ocr-osd.\n",
            "Preparing to unpack .../tesseract-ocr-osd_1%3a4.00~git30-7274cfa-1.1_all.deb ...\n",
            "Unpacking tesseract-ocr-osd (1:4.00~git30-7274cfa-1.1) ...\n",
            "Selecting previously unselected package tesseract-ocr.\n",
            "Preparing to unpack .../tesseract-ocr_4.1.1-2.1build1_amd64.deb ...\n",
            "Unpacking tesseract-ocr (4.1.1-2.1build1) ...\n",
            "Setting up tesseract-ocr-eng (1:4.00~git30-7274cfa-1.1) ...\n",
            "Setting up tesseract-ocr-osd (1:4.00~git30-7274cfa-1.1) ...\n",
            "Setting up tesseract-ocr (4.1.1-2.1build1) ...\n",
            "Processing triggers for man-db (2.10.2-1) ...\n"
          ]
        }
      ],
      "source": [
        "!sudo apt-get install tesseract-ocr"
      ]
    },
    {
      "cell_type": "code",
      "execution_count": 5,
      "metadata": {
        "colab": {
          "base_uri": "https://localhost:8080/"
        },
        "id": "adnV3ZlyxZ4v",
        "outputId": "7925c668-8993-414c-e4c3-2c8b5af12bdd"
      },
      "outputs": [
        {
          "output_type": "stream",
          "name": "stdout",
          "text": [
            "Cloning into 'Tessseract_OCR_Project'...\n",
            "remote: Enumerating objects: 289, done.\u001b[K\n",
            "remote: Counting objects: 100% (289/289), done.\u001b[K\n",
            "remote: Compressing objects: 100% (260/260), done.\u001b[K\n",
            "remote: Total 289 (delta 23), reused 289 (delta 23), pack-reused 0\u001b[K\n",
            "Receiving objects: 100% (289/289), 27.66 MiB | 10.09 MiB/s, done.\n",
            "Resolving deltas: 100% (23/23), done.\n",
            "Updating files: 100% (1321/1321), done.\n",
            "Filtering content: 100% (2/2), 502.20 MiB | 29.67 MiB/s, done.\n"
          ]
        }
      ],
      "source": [
        "! git clone https://github.com/MrOrange5546/Tessseract_OCR_Project.git"
      ]
    },
    {
      "cell_type": "code",
      "execution_count": 6,
      "metadata": {
        "colab": {
          "base_uri": "https://localhost:8080/"
        },
        "id": "RlnCZFsHxrGc",
        "outputId": "eb00e177-de89-41f2-f330-e149be7562bb"
      },
      "outputs": [
        {
          "output_type": "stream",
          "name": "stdout",
          "text": [
            "/content/Tessseract_OCR_Project/04 train\n"
          ]
        }
      ],
      "source": [
        "%cd Tessseract_OCR_Project/04 train"
      ]
    },
    {
      "cell_type": "code",
      "execution_count": 7,
      "metadata": {
        "colab": {
          "base_uri": "https://localhost:8080/"
        },
        "id": "-Yg4VVHmyJDI",
        "outputId": "ef638331-eba1-4463-958d-f2836bcb98e9"
      },
      "outputs": [
        {
          "output_type": "stream",
          "name": "stdout",
          "text": [
            "Cloning into 'tesseract'...\n",
            "remote: Enumerating objects: 47221, done.\u001b[K\n",
            "remote: Counting objects: 100% (608/608), done.\u001b[K\n",
            "remote: Compressing objects: 100% (321/321), done.\u001b[K\n",
            "remote: Total 47221 (delta 329), reused 442 (delta 279), pack-reused 46613\u001b[K\n",
            "Receiving objects: 100% (47221/47221), 51.93 MiB | 15.76 MiB/s, done.\n",
            "Resolving deltas: 100% (36845/36845), done.\n"
          ]
        }
      ],
      "source": [
        "! git clone -b 4.1 https://github.com/tesseract-ocr/tesseract.git"
      ]
    },
    {
      "cell_type": "code",
      "execution_count": 8,
      "metadata": {
        "colab": {
          "base_uri": "https://localhost:8080/"
        },
        "id": "u2z-ZdAK2TWF",
        "outputId": "2547fea6-1dde-44df-9f99-be23fb59ab08"
      },
      "outputs": [
        {
          "output_type": "stream",
          "name": "stdout",
          "text": [
            "/content/Tessseract_OCR_Project/04 train/tesseract/tessdata\n"
          ]
        }
      ],
      "source": [
        "%cd tesseract/tessdata"
      ]
    },
    {
      "cell_type": "code",
      "execution_count": 9,
      "metadata": {
        "colab": {
          "base_uri": "https://localhost:8080/"
        },
        "id": "pm4XQoRm2X4I",
        "outputId": "4ec4254c-179d-4994-97be-1095b23a1215"
      },
      "outputs": [
        {
          "output_type": "stream",
          "name": "stdout",
          "text": [
            "--2024-01-12 11:03:59--  https://github.com/tesseract-ocr/tessdata_best/blob/master/eng.traineddata\n",
            "Resolving github.com (github.com)... 20.205.243.166\n",
            "Connecting to github.com (github.com)|20.205.243.166|:443... connected.\n",
            "HTTP request sent, awaiting response... 302 Found\n",
            "Location: https://github.com/tesseract-ocr/tessdata_best/blob/main/eng.traineddata [following]\n",
            "--2024-01-12 11:03:59--  https://github.com/tesseract-ocr/tessdata_best/blob/main/eng.traineddata\n",
            "Reusing existing connection to github.com:443.\n",
            "HTTP request sent, awaiting response... 200 OK\n",
            "Length: 13960 (14K) [text/plain]\n",
            "Saving to: ‘eng.traineddata’\n",
            "\n",
            "eng.traineddata     100%[===================>]  13.63K  --.-KB/s    in 0.001s  \n",
            "\n",
            "2024-01-12 11:03:59 (12.2 MB/s) - ‘eng.traineddata’ saved [13960/13960]\n",
            "\n",
            "--2024-01-12 11:03:59--  https://github.com/tesseract-ocr/tessdata_best/blob/master/tha.traineddata\n",
            "Resolving github.com (github.com)... 20.205.243.166\n",
            "Connecting to github.com (github.com)|20.205.243.166|:443... connected.\n",
            "HTTP request sent, awaiting response... 302 Found\n",
            "Location: https://github.com/tesseract-ocr/tessdata_best/blob/main/tha.traineddata [following]\n",
            "--2024-01-12 11:04:00--  https://github.com/tesseract-ocr/tessdata_best/blob/main/tha.traineddata\n",
            "Reusing existing connection to github.com:443.\n",
            "HTTP request sent, awaiting response... 200 OK\n",
            "Length: 13950 (14K) [text/plain]\n",
            "Saving to: ‘tha.traineddata’\n",
            "\n",
            "tha.traineddata     100%[===================>]  13.62K  --.-KB/s    in 0.001s  \n",
            "\n",
            "2024-01-12 11:04:00 (10.5 MB/s) - ‘tha.traineddata’ saved [13950/13950]\n",
            "\n"
          ]
        }
      ],
      "source": [
        "!wget https://github.com/tesseract-ocr/tessdata_best/blob/master/eng.traineddata\n",
        "!wget https://github.com/tesseract-ocr/tessdata_best/blob/master/tha.traineddata"
      ]
    },
    {
      "cell_type": "code",
      "execution_count": 10,
      "metadata": {
        "colab": {
          "base_uri": "https://localhost:8080/"
        },
        "id": "OLqPbpuH2fHN",
        "outputId": "c25faa15-8ebb-4db9-f844-21d371d8f24d"
      },
      "outputs": [
        {
          "output_type": "stream",
          "name": "stdout",
          "text": [
            "/content/Tessseract_OCR_Project/04 train\n"
          ]
        }
      ],
      "source": [
        "%cd /content/Tessseract_OCR_Project/04 train"
      ]
    },
    {
      "cell_type": "code",
      "execution_count": 11,
      "metadata": {
        "colab": {
          "base_uri": "https://localhost:8080/"
        },
        "id": "UkNFowG82wPM",
        "outputId": "9b4b1c03-91d1-4d70-a826-445762e3cff4"
      },
      "outputs": [
        {
          "output_type": "stream",
          "name": "stdout",
          "text": [
            "Cloning into 'langdata_lstm'...\n",
            "remote: Enumerating objects: 2003, done.\u001b[K\n",
            "remote: Counting objects: 100% (49/49), done.\u001b[K\n",
            "remote: Compressing objects: 100% (31/31), done.\u001b[K\n",
            "remote: Total 2003 (delta 21), reused 38 (delta 17), pack-reused 1954\u001b[K\n",
            "Receiving objects: 100% (2003/2003), 1.19 GiB | 15.89 MiB/s, done.\n",
            "Resolving deltas: 100% (956/956), done.\n",
            "Updating files: 100% (1237/1237), done.\n"
          ]
        }
      ],
      "source": [
        "!git clone https://github.com/tesseract-ocr/langdata_lstm.git"
      ]
    },
    {
      "cell_type": "code",
      "execution_count": 12,
      "metadata": {
        "id": "YoJM09LU23LA"
      },
      "outputs": [],
      "source": [
        "!cp tha.training_text langdata_lstm/tha/"
      ]
    },
    {
      "cell_type": "code",
      "execution_count": 13,
      "metadata": {
        "colab": {
          "base_uri": "https://localhost:8080/"
        },
        "id": "dL6LI6BA3iQF",
        "outputId": "f9106de9-920d-41f8-bd82-527dec98bc53"
      },
      "outputs": [
        {
          "output_type": "stream",
          "name": "stdout",
          "text": [
            "/content/Tessseract_OCR_Project/04 train\n"
          ]
        }
      ],
      "source": [
        "%cd /content/Tessseract_OCR_Project/04 train"
      ]
    },
    {
      "cell_type": "code",
      "execution_count": 14,
      "metadata": {
        "colab": {
          "base_uri": "https://localhost:8080/"
        },
        "id": "9wmHqm2o3j2H",
        "outputId": "c8e142f3-1d64-4596-ee4b-da7acba1ceae"
      },
      "outputs": [
        {
          "output_type": "stream",
          "name": "stdout",
          "text": [
            "Creating new directory train\n",
            "\n",
            "=== Starting training for language 'tha'\n",
            "[Fri Jan 12 11:06:23 AM UTC 2024] /usr/bin/text2image --fonts_dir=fonts --ptsize 12 --font=combine.sh --outputbase=/tmp/font_tmp.uF4rq2F2UL/sample_text.txt --text=/tmp/font_tmp.uF4rq2F2UL/sample_text.txt --fontconfig_tmpdir=/tmp/font_tmp.uF4rq2F2UL\n",
            "Could not find font named 'combine.sh'.\n",
            "Pango suggested font 'Noto Sans Thai'.\n",
            "Please correct --font arg.\n",
            "Using 'fc' as pango cairo backend based on environment variable.\n",
            "ERROR: Program text2image failed. Abort.\n"
          ]
        }
      ],
      "source": [
        "!sh generate_train_ds.sh"
      ]
    }
  ],
  "metadata": {
    "accelerator": "GPU",
    "colab": {
      "provenance": [],
      "machine_shape": "hm",
      "gpuType": "T4"
    },
    "kernelspec": {
      "display_name": "Python 3",
      "name": "python3"
    },
    "language_info": {
      "name": "python"
    }
  },
  "nbformat": 4,
  "nbformat_minor": 0
}