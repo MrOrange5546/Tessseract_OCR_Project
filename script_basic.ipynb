{
  "cells": [
    {
      "cell_type": "code",
      "execution_count": null,
      "metadata": {
        "colab": {
          "base_uri": "https://localhost:8080/"
        },
        "id": "CyD18ccL6OT-",
        "outputId": "44246652-9b71-4d38-ef50-8ccf3892158f"
      },
      "outputs": [
        {
          "output_type": "stream",
          "name": "stdout",
          "text": [
            "Reading package lists... Done\n",
            "Building dependency tree... Done\n",
            "Reading state information... Done\n",
            "tesseract-ocr is already the newest version (4.1.1-2.1build1).\n",
            "0 upgraded, 0 newly installed, 0 to remove and 24 not upgraded.\n"
          ]
        }
      ],
      "source": [
        "!sudo apt-get install tesseract-ocr"
      ]
    },
    {
      "cell_type": "code",
      "execution_count": null,
      "metadata": {
        "colab": {
          "base_uri": "https://localhost:8080/"
        },
        "id": "adnV3ZlyxZ4v",
        "outputId": "8b7bc501-5871-47bb-bbb6-e003dc9fad2e"
      },
      "outputs": [
        {
          "output_type": "stream",
          "name": "stdout",
          "text": [
            "Cloning into 'TH-National-Document-OCR-Part-II'...\n",
            "remote: Enumerating objects: 202, done.\u001b[K\n",
            "remote: Counting objects: 100% (36/36), done.\u001b[K\n",
            "remote: Compressing objects: 100% (25/25), done.\u001b[K\n",
            "remote: Total 202 (delta 9), reused 32 (delta 8), pack-reused 166\u001b[K\n",
            "Receiving objects: 100% (202/202), 16.57 MiB | 21.72 MiB/s, done.\n",
            "Resolving deltas: 100% (26/26), done.\n"
          ]
        }
      ],
      "source": [
        "! git clone https://github.com/copninich/TH-National-Document-OCR-Part-II.git"
      ]
    },
    {
      "cell_type": "code",
      "execution_count": null,
      "metadata": {
        "colab": {
          "base_uri": "https://localhost:8080/"
        },
        "id": "RlnCZFsHxrGc",
        "outputId": "e4e76cff-da9e-42af-8d0d-e792557e34e0"
      },
      "outputs": [
        {
          "output_type": "stream",
          "name": "stdout",
          "text": [
            "/content/TH-National-Document-OCR-Part-II/04 train/TH-National-Document-OCR-Part-II/04 train\n"
          ]
        }
      ],
      "source": [
        "%cd TH-National-Document-OCR-Part-II/04 train"
      ]
    },
    {
      "cell_type": "code",
      "execution_count": null,
      "metadata": {
        "colab": {
          "base_uri": "https://localhost:8080/"
        },
        "id": "-Yg4VVHmyJDI",
        "outputId": "4366e98f-6527-4e7f-eea2-7181d89e6bbd"
      },
      "outputs": [
        {
          "output_type": "stream",
          "name": "stdout",
          "text": [
            "Cloning into 'tesseract'...\n",
            "remote: Enumerating objects: 47221, done.\u001b[K\n",
            "remote: Counting objects: 100% (608/608), done.\u001b[K\n",
            "remote: Compressing objects: 100% (309/309), done.\u001b[K\n",
            "remote: Total 47221 (delta 330), reused 459 (delta 291), pack-reused 46613\u001b[K\n",
            "Receiving objects: 100% (47221/47221), 51.89 MiB | 13.98 MiB/s, done.\n",
            "Resolving deltas: 100% (36840/36840), done.\n"
          ]
        }
      ],
      "source": [
        "! git clone -b 4.1 https://github.com/tesseract-ocr/tesseract.git"
      ]
    },
    {
      "cell_type": "code",
      "execution_count": null,
      "metadata": {
        "colab": {
          "base_uri": "https://localhost:8080/"
        },
        "id": "u2z-ZdAK2TWF",
        "outputId": "796fc723-bbbf-43c1-a151-263ee09dfeec"
      },
      "outputs": [
        {
          "output_type": "stream",
          "name": "stdout",
          "text": [
            "/content/TH-National-Document-OCR-Part-II/04 train/TH-National-Document-OCR-Part-II/04 train/tesseract/tessdata\n"
          ]
        }
      ],
      "source": [
        "%cd tesseract/tessdata"
      ]
    },
    {
      "cell_type": "code",
      "execution_count": null,
      "metadata": {
        "colab": {
          "base_uri": "https://localhost:8080/"
        },
        "id": "pm4XQoRm2X4I",
        "outputId": "83e68f46-f592-4c7a-fd18-e7c646ae0d35"
      },
      "outputs": [
        {
          "output_type": "stream",
          "name": "stdout",
          "text": [
            "--2024-01-12 09:40:34--  https://github.com/tesseract-ocr/tessdata_best/blob/master/eng.traineddata\n",
            "Resolving github.com (github.com)... 140.82.113.3\n",
            "Connecting to github.com (github.com)|140.82.113.3|:443... connected.\n",
            "HTTP request sent, awaiting response... 302 Found\n",
            "Location: https://github.com/tesseract-ocr/tessdata_best/blob/main/eng.traineddata [following]\n",
            "--2024-01-12 09:40:35--  https://github.com/tesseract-ocr/tessdata_best/blob/main/eng.traineddata\n",
            "Reusing existing connection to github.com:443.\n",
            "HTTP request sent, awaiting response... 200 OK\n",
            "Length: 13960 (14K) [text/plain]\n",
            "Saving to: ‘eng.traineddata’\n",
            "\n",
            "eng.traineddata     100%[===================>]  13.63K  --.-KB/s    in 0.01s   \n",
            "\n",
            "2024-01-12 09:40:35 (1.11 MB/s) - ‘eng.traineddata’ saved [13960/13960]\n",
            "\n",
            "--2024-01-12 09:40:35--  https://github.com/tesseract-ocr/tessdata_best/blob/master/tha.traineddata\n",
            "Resolving github.com (github.com)... 140.82.113.3\n",
            "Connecting to github.com (github.com)|140.82.113.3|:443... connected.\n",
            "HTTP request sent, awaiting response... 302 Found\n",
            "Location: https://github.com/tesseract-ocr/tessdata_best/blob/main/tha.traineddata [following]\n",
            "--2024-01-12 09:40:35--  https://github.com/tesseract-ocr/tessdata_best/blob/main/tha.traineddata\n",
            "Reusing existing connection to github.com:443.\n",
            "HTTP request sent, awaiting response... 200 OK\n",
            "Length: 13950 (14K) [text/plain]\n",
            "Saving to: ‘tha.traineddata’\n",
            "\n",
            "tha.traineddata     100%[===================>]  13.62K  --.-KB/s    in 0.01s   \n",
            "\n",
            "2024-01-12 09:40:35 (1.07 MB/s) - ‘tha.traineddata’ saved [13950/13950]\n",
            "\n"
          ]
        }
      ],
      "source": [
        "!wget https://github.com/tesseract-ocr/tessdata_best/blob/master/eng.traineddata\n",
        "!wget https://github.com/tesseract-ocr/tessdata_best/blob/master/tha.traineddata"
      ]
    },
    {
      "cell_type": "code",
      "execution_count": null,
      "metadata": {
        "colab": {
          "base_uri": "https://localhost:8080/"
        },
        "id": "OLqPbpuH2fHN",
        "outputId": "6b398453-8d3c-480e-9e01-428ad207c89e"
      },
      "outputs": [
        {
          "output_type": "stream",
          "name": "stdout",
          "text": [
            "/content/TH-National-Document-OCR-Part-II/04 train\n"
          ]
        }
      ],
      "source": [
        "%cd /content/TH-National-Document-OCR-Part-II/04 train"
      ]
    },
    {
      "cell_type": "code",
      "execution_count": null,
      "metadata": {
        "colab": {
          "base_uri": "https://localhost:8080/"
        },
        "id": "UkNFowG82wPM",
        "outputId": "2c12eec6-447b-4aeb-cb32-e6fa73ff3841"
      },
      "outputs": [
        {
          "output_type": "stream",
          "name": "stdout",
          "text": [
            "fatal: destination path 'langdata_lstm' already exists and is not an empty directory.\n"
          ]
        }
      ],
      "source": [
        "!git clone https://github.com/tesseract-ocr/langdata_lstm.git"
      ]
    },
    {
      "cell_type": "code",
      "execution_count": null,
      "metadata": {
        "id": "YoJM09LU23LA"
      },
      "outputs": [],
      "source": [
        "!cp tha.training_text langdata_lstm/tha/"
      ]
    },
    {
      "cell_type": "code",
      "execution_count": null,
      "metadata": {
        "colab": {
          "base_uri": "https://localhost:8080/"
        },
        "id": "dL6LI6BA3iQF",
        "outputId": "2b0b7441-cf1f-45ea-9e1f-b6bbd7b38f3f"
      },
      "outputs": [
        {
          "output_type": "stream",
          "name": "stdout",
          "text": [
            "/content/TH-National-Document-OCR-Part-II/04 train\n"
          ]
        }
      ],
      "source": [
        "%cd /content/TH-National-Document-OCR-Part-II/04 train"
      ]
    },
    {
      "cell_type": "code",
      "execution_count": null,
      "metadata": {
        "colab": {
          "base_uri": "https://localhost:8080/"
        },
        "id": "9wmHqm2o3j2H",
        "outputId": "8b62810b-9462-4246-9420-13db1bc636d2"
      },
      "outputs": [
        {
          "output_type": "stream",
          "name": "stdout",
          "text": [
            "generate_train_ds.sh: 2: \r: not found\n",
            "ERROR: Unrecognized argument \r\n",
            "generate_train_ds.sh: 4: --fontlist: not found\n",
            "generate_train_ds.sh: 5: --lang: not found\n",
            "generate_train_ds.sh: 6: --linedata_only: not found\n",
            "generate_train_ds.sh: 7: --exposures: not found\n",
            "generate_train_ds.sh: 8: --langdata_dir: not found\n",
            "generate_train_ds.sh: 9: --tessdata_dir: not found\n",
            "generate_train_ds.sh: 10: --save_box_tiff: not found\n",
            "generate_train_ds.sh: 11: --maxpages: not found\n",
            "generate_train_ds.sh: 12: --output_dir: not found\n"
          ]
        }
      ],
      "source": [
        "!sh generate_train_ds.sh"
      ]
    }
  ],
  "metadata": {
    "accelerator": "GPU",
    "colab": {
      "provenance": [],
      "machine_shape": "hm",
      "gpuType": "T4"
    },
    "kernelspec": {
      "display_name": "Python 3",
      "name": "python3"
    },
    "language_info": {
      "name": "python"
    }
  },
  "nbformat": 4,
  "nbformat_minor": 0
}